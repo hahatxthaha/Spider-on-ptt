{
 "cells": [
  {
   "cell_type": "code",
   "execution_count": 1,
   "source": [
    "!pip install requests"
   ],
   "outputs": [
    {
     "output_type": "stream",
     "name": "stdout",
     "text": [
      "Requirement already satisfied: requests in /opt/anaconda3/lib/python3.8/site-packages (2.25.1)\n",
      "Requirement already satisfied: chardet<5,>=3.0.2 in /opt/anaconda3/lib/python3.8/site-packages (from requests) (4.0.0)\n",
      "Requirement already satisfied: certifi>=2017.4.17 in /opt/anaconda3/lib/python3.8/site-packages (from requests) (2020.12.5)\n",
      "Requirement already satisfied: idna<3,>=2.5 in /opt/anaconda3/lib/python3.8/site-packages (from requests) (2.10)\n",
      "Requirement already satisfied: urllib3<1.27,>=1.21.1 in /opt/anaconda3/lib/python3.8/site-packages (from requests) (1.26.4)\n"
     ]
    }
   ],
   "metadata": {}
  },
  {
   "cell_type": "code",
   "execution_count": 2,
   "source": [
    "import requests"
   ],
   "outputs": [],
   "metadata": {}
  },
  {
   "cell_type": "code",
   "execution_count": 5,
   "source": [
    "respon = requests.get('https://travel.ettoday.net/article/1768562.htm')"
   ],
   "outputs": [],
   "metadata": {}
  },
  {
   "cell_type": "code",
   "execution_count": 6,
   "source": [
    "respon.status_code"
   ],
   "outputs": [
    {
     "output_type": "execute_result",
     "data": {
      "text/plain": [
       "200"
      ]
     },
     "metadata": {},
     "execution_count": 6
    }
   ],
   "metadata": {}
  },
  {
   "cell_type": "code",
   "execution_count": null,
   "source": [
    "respon.text"
   ],
   "outputs": [],
   "metadata": {}
  },
  {
   "cell_type": "markdown",
   "source": [
    "## 引入套件，嘗試Beautiful Soap"
   ],
   "metadata": {}
  },
  {
   "cell_type": "code",
   "execution_count": 17,
   "source": [
    "# 安裝\n",
    "\n",
    "# bs4 是用於截取分析xml資料的套件， Beautiful Soap\n",
    "!pip install bs4\n",
    "\n",
    "# bs4 使用的parser xml分析套件\n",
    "!pip install lxml\n"
   ],
   "outputs": [
    {
     "output_type": "stream",
     "name": "stdout",
     "text": [
      "Requirement already satisfied: bs4 in /opt/anaconda3/lib/python3.8/site-packages (0.0.1)\n",
      "Requirement already satisfied: beautifulsoup4 in /opt/anaconda3/lib/python3.8/site-packages (from bs4) (4.9.3)\n",
      "Requirement already satisfied: soupsieve>1.2 in /opt/anaconda3/lib/python3.8/site-packages (from beautifulsoup4->bs4) (2.2.1)\n",
      "Requirement already satisfied: lxml in /opt/anaconda3/lib/python3.8/site-packages (4.6.3)\n"
     ]
    }
   ],
   "metadata": {}
  },
  {
   "cell_type": "code",
   "execution_count": 19,
   "source": [
    "import bs4"
   ],
   "outputs": [],
   "metadata": {}
  },
  {
   "cell_type": "code",
   "execution_count": 14,
   "source": [
    "myHtmlStr = \"\"\"<body>\n",
    "        <h1>學米網路爬蟲的大標題</h1>\n",
    "        <h2>這是h2第2等級的標題</h2>\n",
    "        <h3>這是h3第3等級的標題</h3>\n",
    "        \n",
    "        <p> 這是p標籤的段落       <br/>\n",
    "            以及一些內容 </p>\n",
    "        \n",
    "        <div>\n",
    "            這是一個div的區塊元素。\n",
    "            換行不同br，內容不會真的換行。\n",
    "        </div>\n",
    "        \n",
    "        <div class=\"zzz\" id=\"id1\">\n",
    "            這是一個div的區塊元素, class是zzz, id是id1。\n",
    "        </div>\n",
    "        \n",
    "        <div class=\"zzz\" id=\"id2\">\n",
    "            這是一個div的區塊元素, class是zzz, id是id2。\n",
    "        </div>\n",
    "        \n",
    "        <table>\n",
    "            <tr><th>課程名稱</th><th>課程內容</th></tr>\n",
    "            <tr><td>python課程</td><td>如何寫python</td></tr>\n",
    "            <tr><td>設計課程</td><td>如何做設計</td></tr>\n",
    "        </table>\n",
    "        \n",
    "    </body>\"\"\"\n"
   ],
   "outputs": [],
   "metadata": {}
  },
  {
   "cell_type": "code",
   "execution_count": 20,
   "source": [
    "soup = bs4.BeautifulSoup(myHtmlStr, \"lxml\")"
   ],
   "outputs": [],
   "metadata": {}
  },
  {
   "cell_type": "code",
   "execution_count": 21,
   "source": [
    "soup"
   ],
   "outputs": [
    {
     "output_type": "execute_result",
     "data": {
      "text/plain": [
       "<html><body>\n",
       "<h1>學米網路爬蟲的大標題</h1>\n",
       "<h2>這是h2第2等級的標題</h2>\n",
       "<h3>這是h3第3等級的標題</h3>\n",
       "<p> 這是p標籤的段落       <br/>\n",
       "            以及一些內容 </p>\n",
       "<div>\n",
       "            這是一個div的區塊元素。\n",
       "            換行不同br，內容不會真的換行。\n",
       "        </div>\n",
       "<div class=\"zzz\" id=\"id1\">\n",
       "            這是一個div的區塊元素, class是zzz, id是id1。\n",
       "        </div>\n",
       "<div class=\"zzz\" id=\"id2\">\n",
       "            這是一個div的區塊元素, class是zzz, id是id2。\n",
       "        </div>\n",
       "<table>\n",
       "<tr><th>課程名稱</th><th>課程內容</th></tr>\n",
       "<tr><td>python課程</td><td>如何寫python</td></tr>\n",
       "<tr><td>設計課程</td><td>如何做設計</td></tr>\n",
       "</table>\n",
       "</body></html>"
      ]
     },
     "metadata": {},
     "execution_count": 21
    }
   ],
   "metadata": {}
  },
  {
   "cell_type": "code",
   "execution_count": 30,
   "source": [
    "print(soup.prettify())"
   ],
   "outputs": [
    {
     "output_type": "stream",
     "name": "stdout",
     "text": [
      "<html>\n",
      " <body>\n",
      "  <h1>\n",
      "   學米網路爬蟲的大標題\n",
      "  </h1>\n",
      "  <h2>\n",
      "   這是h2第2等級的標題\n",
      "  </h2>\n",
      "  <h3>\n",
      "   這是h3第3等級的標題\n",
      "  </h3>\n",
      "  <p>\n",
      "   這是p標籤的段落\n",
      "   <br/>\n",
      "   以及一些內容\n",
      "  </p>\n",
      "  <div>\n",
      "   這是一個div的區塊元素。\n",
      "            換行不同br，內容不會真的換行。\n",
      "  </div>\n",
      "  <div class=\"zzz\" id=\"id1\">\n",
      "   這是一個div的區塊元素, class是zzz, id是id1。\n",
      "  </div>\n",
      "  <div class=\"zzz\" id=\"id2\">\n",
      "   這是一個div的區塊元素, class是zzz, id是id2。\n",
      "  </div>\n",
      "  <table>\n",
      "   <tr>\n",
      "    <th>\n",
      "     課程名稱\n",
      "    </th>\n",
      "    <th>\n",
      "     課程內容\n",
      "    </th>\n",
      "   </tr>\n",
      "   <tr>\n",
      "    <td>\n",
      "     python課程\n",
      "    </td>\n",
      "    <td>\n",
      "     如何寫python\n",
      "    </td>\n",
      "   </tr>\n",
      "   <tr>\n",
      "    <td>\n",
      "     設計課程\n",
      "    </td>\n",
      "    <td>\n",
      "     如何做設計\n",
      "    </td>\n",
      "   </tr>\n",
      "  </table>\n",
      " </body>\n",
      "</html>\n"
     ]
    }
   ],
   "metadata": {}
  },
  {
   "cell_type": "code",
   "execution_count": 22,
   "source": [
    "type(soup)"
   ],
   "outputs": [
    {
     "output_type": "execute_result",
     "data": {
      "text/plain": [
       "bs4.BeautifulSoup"
      ]
     },
     "metadata": {},
     "execution_count": 22
    }
   ],
   "metadata": {}
  },
  {
   "cell_type": "code",
   "execution_count": 24,
   "source": [
    "soup.find(\"h1\")"
   ],
   "outputs": [
    {
     "output_type": "execute_result",
     "data": {
      "text/plain": [
       "<h1>學米網路爬蟲的大標題</h1>"
      ]
     },
     "metadata": {},
     "execution_count": 24
    }
   ],
   "metadata": {}
  },
  {
   "cell_type": "code",
   "execution_count": 25,
   "source": [
    "soup2 = soup.find(\"h1\")"
   ],
   "outputs": [],
   "metadata": {}
  },
  {
   "cell_type": "code",
   "execution_count": 26,
   "source": [
    "soup.findAll(\"div\")"
   ],
   "outputs": [
    {
     "output_type": "execute_result",
     "data": {
      "text/plain": [
       "[<div>\n",
       "             這是一個div的區塊元素。\n",
       "             換行不同br，內容不會真的換行。\n",
       "         </div>,\n",
       " <div class=\"zzz\" id=\"id1\">\n",
       "             這是一個div的區塊元素, class是zzz, id是id1。\n",
       "         </div>,\n",
       " <div class=\"zzz\" id=\"id2\">\n",
       "             這是一個div的區塊元素, class是zzz, id是id2。\n",
       "         </div>]"
      ]
     },
     "metadata": {},
     "execution_count": 26
    }
   ],
   "metadata": {}
  },
  {
   "cell_type": "code",
   "execution_count": 27,
   "source": [
    "soup.findAll(\"div\", {\"class\" : \"zzz\"})"
   ],
   "outputs": [
    {
     "output_type": "execute_result",
     "data": {
      "text/plain": [
       "[<div class=\"zzz\" id=\"id1\">\n",
       "             這是一個div的區塊元素, class是zzz, id是id1。\n",
       "         </div>,\n",
       " <div class=\"zzz\" id=\"id2\">\n",
       "             這是一個div的區塊元素, class是zzz, id是id2。\n",
       "         </div>]"
      ]
     },
     "metadata": {},
     "execution_count": 27
    }
   ],
   "metadata": {}
  },
  {
   "cell_type": "code",
   "execution_count": 28,
   "source": [
    "soup.findAll(\"div\", {\"class\" : \"zzz\"})[0].string"
   ],
   "outputs": [
    {
     "output_type": "execute_result",
     "data": {
      "text/plain": [
       "'\\n            這是一個div的區塊元素, class是zzz, id是id1。\\n        '"
      ]
     },
     "metadata": {},
     "execution_count": 28
    }
   ],
   "metadata": {}
  },
  {
   "cell_type": "code",
   "execution_count": 34,
   "source": [
    "soup.find(\"div\", {\"id\": \"id1\"})"
   ],
   "outputs": [
    {
     "output_type": "execute_result",
     "data": {
      "text/plain": [
       "<div class=\"zzz\" id=\"id1\">\n",
       "            這是一個div的區塊元素, class是zzz, id是id1。\n",
       "        </div>"
      ]
     },
     "metadata": {},
     "execution_count": 34
    }
   ],
   "metadata": {}
  },
  {
   "cell_type": "code",
   "execution_count": 37,
   "source": [
    "soup.find(\"div\", {\"id\": \"id1\"}).string"
   ],
   "outputs": [
    {
     "output_type": "execute_result",
     "data": {
      "text/plain": [
       "'\\n            這是一個div的區塊元素, class是zzz, id是id1。\\n        '"
      ]
     },
     "metadata": {},
     "execution_count": 37
    }
   ],
   "metadata": {}
  },
  {
   "cell_type": "code",
   "execution_count": 38,
   "source": [
    "soup.find(\"div\", id = \"id1\").string"
   ],
   "outputs": [
    {
     "output_type": "execute_result",
     "data": {
      "text/plain": [
       "'\\n            這是一個div的區塊元素, class是zzz, id是id1。\\n        '"
      ]
     },
     "metadata": {},
     "execution_count": 38
    }
   ],
   "metadata": {}
  },
  {
   "cell_type": "code",
   "execution_count": 39,
   "source": [
    "# class無法被使用\n",
    "soup.find(\"div\", class = \"zzz\").string"
   ],
   "outputs": [
    {
     "output_type": "error",
     "ename": "SyntaxError",
     "evalue": "invalid syntax (<ipython-input-39-a9cd7a59e4fa>, line 1)",
     "traceback": [
      "\u001b[0;36m  File \u001b[0;32m\"<ipython-input-39-a9cd7a59e4fa>\"\u001b[0;36m, line \u001b[0;32m1\u001b[0m\n\u001b[0;31m    soup.find(\"div\", class = \"zzz\").string\u001b[0m\n\u001b[0m                     ^\u001b[0m\n\u001b[0;31mSyntaxError\u001b[0m\u001b[0;31m:\u001b[0m invalid syntax\n"
     ]
    }
   ],
   "metadata": {}
  },
  {
   "cell_type": "code",
   "execution_count": null,
   "source": [],
   "outputs": [],
   "metadata": {}
  }
 ],
 "metadata": {
  "orig_nbformat": 4,
  "language_info": {
   "name": "python",
   "version": "3.8.8",
   "mimetype": "text/x-python",
   "codemirror_mode": {
    "name": "ipython",
    "version": 3
   },
   "pygments_lexer": "ipython3",
   "nbconvert_exporter": "python",
   "file_extension": ".py"
  },
  "kernelspec": {
   "name": "python3",
   "display_name": "Python 3.8.8 64-bit ('base': conda)"
  },
  "interpreter": {
   "hash": "dca0ade3e726a953b501b15e8e990130d2b7799f14cfd9f4271676035ebe5511"
  }
 },
 "nbformat": 4,
 "nbformat_minor": 2
}